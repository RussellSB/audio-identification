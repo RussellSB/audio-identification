{
 "cells": [
  {
   "cell_type": "markdown",
   "id": "broad-intake",
   "metadata": {},
   "source": [
    "# General Imports"
   ]
  },
  {
   "cell_type": "markdown",
   "id": "sudden-salmon",
   "metadata": {},
   "source": [
    "# Matching"
   ]
  },
  {
   "cell_type": "markdown",
   "id": "loving-traffic",
   "metadata": {},
   "source": [
    "Testing matching with one query audio file and database for proof of concept."
   ]
  },
  {
   "cell_type": "code",
   "execution_count": 19,
   "id": "surgical-football",
   "metadata": {},
   "outputs": [],
   "source": [
    "from collections import Counter\n",
    "from fingerprint import fingerprintBuilder\n",
    "from util import load_pickle\n",
    "import os"
   ]
  },
  {
   "cell_type": "code",
   "execution_count": 20,
   "id": "married-mirror",
   "metadata": {},
   "outputs": [],
   "source": [
    "db = load_pickle('data/fingerprints/data1.pickle')"
   ]
  },
  {
   "cell_type": "code",
   "execution_count": 22,
   "id": "atmospheric-spain",
   "metadata": {},
   "outputs": [
    {
     "data": {
      "text/plain": [
       "[('pop.00083.wav', 104), ('pop.00082.wav', 98), ('pop.00031.wav', 96)]"
      ]
     },
     "execution_count": 22,
     "metadata": {},
     "output_type": "execute_result"
    }
   ],
   "source": [
    "# Matches query and database features and returns scoring\n",
    "def match(queryfile, db):\n",
    "    q = db.fingerprint(queryfile)\n",
    "    \n",
    "    scoring = Counter()\n",
    "\n",
    "    for feature in q:\n",
    "        if feature in db.data:\n",
    "\n",
    "            identity = db.data[feature][1]\n",
    "            title = db.identity2title[identity]\n",
    "            scoring[title] += 1\n",
    "\n",
    "    return scoring.most_common()\n",
    "\n",
    "match('data/query_recordings/classical.00003-snippet-10-0.wav', db)[:3]"
   ]
  }
 ],
 "metadata": {
  "kernelspec": {
   "display_name": "Python 3",
   "language": "python",
   "name": "python3"
  },
  "language_info": {
   "codemirror_mode": {
    "name": "ipython",
    "version": 3
   },
   "file_extension": ".py",
   "mimetype": "text/x-python",
   "name": "python",
   "nbconvert_exporter": "python",
   "pygments_lexer": "ipython3",
   "version": "3.8.8"
  }
 },
 "nbformat": 4,
 "nbformat_minor": 5
}
